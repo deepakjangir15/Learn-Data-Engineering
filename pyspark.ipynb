{
 "cells": [
  {
   "cell_type": "code",
   "execution_count": 1,
   "metadata": {},
   "outputs": [
    {
     "name": "stderr",
     "output_type": "stream",
     "text": [
      "23/06/18 08:28:05 WARN Utils: Your hostname, Deepaks-MacBook-Pro.local resolves to a loopback address: 127.0.0.1; using 192.168.0.40 instead (on interface en0)\n",
      "23/06/18 08:28:05 WARN Utils: Set SPARK_LOCAL_IP if you need to bind to another address\n",
      "Setting default log level to \"WARN\".\n",
      "To adjust logging level use sc.setLogLevel(newLevel). For SparkR, use setLogLevel(newLevel).\n",
      "23/06/18 08:28:06 WARN NativeCodeLoader: Unable to load native-hadoop library for your platform... using builtin-java classes where applicable\n"
     ]
    }
   ],
   "source": [
    "import pyspark\n",
    "from pyspark.conf import SparkConf\n",
    "from pyspark.sql import SparkSession\n",
    "\n",
    "conf = SparkConf()\n",
    "conf.set(\"spark.ui.enabled\", \"true\")\n",
    "\n",
    "spark = SparkSession.builder.config(conf=conf).master(\"local[*]\").appName(\"test\").getOrCreate()"
   ]
  },
  {
   "cell_type": "code",
   "execution_count": 5,
   "metadata": {},
   "outputs": [
    {
     "name": "stdout",
     "output_type": "stream",
     "text": [
      "--2023-06-17 17:17:52--  https://d37ci6vzurychx.cloudfront.net/trip-data/fhv_tripdata_2021-01.parquet\n",
      "Resolving d37ci6vzurychx.cloudfront.net (d37ci6vzurychx.cloudfront.net)... 18.244.115.202, 18.244.115.167, 18.244.115.107, ...\n",
      "Connecting to d37ci6vzurychx.cloudfront.net (d37ci6vzurychx.cloudfront.net)|18.244.115.202|:443... connected.\n",
      "HTTP request sent, awaiting response... 200 OK\n",
      "Length: 11886281 (11M) [binary/octet-stream]\n",
      "Saving to: ‘fhv_tripdata_2021-01.parquet’\n",
      "\n",
      "fhv_tripdata_2021-0 100%[===================>]  11.33M  10.5MB/s    in 1.1s    \n",
      "\n",
      "2023-06-17 17:17:54 (10.5 MB/s) - ‘fhv_tripdata_2021-01.parquet’ saved [11886281/11886281]\n",
      "\n"
     ]
    }
   ],
   "source": [
    "!wget https://d37ci6vzurychx.cloudfront.net/trip-data/fhv_tripdata_2021-01.parquet"
   ]
  },
  {
   "cell_type": "code",
   "execution_count": 7,
   "metadata": {},
   "outputs": [
    {
     "name": "stdout",
     "output_type": "stream",
     "text": [
      "   32645 fhv_tripdata_2021-01.parquet\n"
     ]
    }
   ],
   "source": [
    "!wc -l fhv_tripdata_2021-01.parquet"
   ]
  },
  {
   "cell_type": "code",
   "execution_count": 2,
   "metadata": {},
   "outputs": [
    {
     "name": "stderr",
     "output_type": "stream",
     "text": [
      "                                                                                \r"
     ]
    }
   ],
   "source": [
    "df = spark.read.option(\"header\", \"true\").parquet(\"fhv_tripdata_2021-01.parquet\")"
   ]
  },
  {
   "cell_type": "code",
   "execution_count": 71,
   "metadata": {},
   "outputs": [
    {
     "name": "stdout",
     "output_type": "stream",
     "text": [
      "+--------------------+-------------------+-------------------+------------+------------+-------+----------------------+\n",
      "|dispatching_base_num|    pickup_datetime|   dropOff_datetime|PUlocationID|DOlocationID|SR_Flag|Affiliated_base_number|\n",
      "+--------------------+-------------------+-------------------+------------+------------+-------+----------------------+\n",
      "|              B00009|2021-01-01 00:27:00|2021-01-01 00:44:00|        null|        null|   null|                B00009|\n",
      "|              B00009|2021-01-01 00:50:00|2021-01-01 01:07:00|        null|        null|   null|                B00009|\n",
      "|              B00013|2021-01-01 00:01:00|2021-01-01 01:51:00|        null|        null|   null|                B00013|\n",
      "|              B00037|2021-01-01 00:13:09|2021-01-01 00:21:26|        null|        72.0|   null|                B00037|\n",
      "|              B00037|2021-01-01 00:38:31|2021-01-01 00:53:44|        null|        61.0|   null|                B00037|\n",
      "|              B00037|2021-01-01 00:59:02|2021-01-01 01:08:05|        null|        71.0|   null|                B00037|\n",
      "|              B00037|2021-01-01 00:18:12|2021-01-01 00:30:04|        null|        91.0|   null|                B00037|\n",
      "|              B00037|2021-01-01 00:36:15|2021-01-01 00:45:08|        null|        39.0|   null|                B00037|\n",
      "|              B00037|2021-01-01 00:55:04|2021-01-01 01:13:02|        null|        37.0|   null|                B00037|\n",
      "|              B00037|2021-01-01 00:48:40|2021-01-01 01:12:02|        null|        39.0|   null|                B00037|\n",
      "|              B00037|2021-01-01 00:27:23|2021-01-01 00:29:25|        null|        72.0|   null|                B00037|\n",
      "|              B00037|2021-01-01 00:39:07|2021-01-01 00:43:26|        null|        72.0|   null|                B00037|\n",
      "|              B00037|2021-01-01 00:55:57|2021-01-01 01:10:08|        null|        89.0|   null|                B00037|\n",
      "|              B00095|2021-01-01 00:17:54|2021-01-01 00:20:57|        null|       177.0|   null|                B00095|\n",
      "|              B00095|2021-01-01 00:31:59|2021-01-01 00:42:41|        null|       225.0|   null|                B00095|\n",
      "|              B00095|2021-01-01 00:46:23|2021-01-01 00:57:33|        null|        63.0|   null|                B00095|\n",
      "|              B00111|2021-01-01 00:40:00|2021-01-01 01:41:00|        null|        null|   null|                B03234|\n",
      "|              B00112|2021-01-01 00:21:10|2021-01-01 00:42:42|        null|        67.0|   null|                B00112|\n",
      "|              B00112|2021-01-01 00:53:10|2021-01-01 01:03:24|        null|        22.0|   null|                B00112|\n",
      "|              B00112|2021-01-01 00:28:12|2021-01-01 00:28:18|        null|        14.0|   null|                B00112|\n",
      "+--------------------+-------------------+-------------------+------------+------------+-------+----------------------+\n",
      "only showing top 20 rows\n",
      "\n"
     ]
    }
   ],
   "source": [
    "df.show()"
   ]
  },
  {
   "cell_type": "code",
   "execution_count": 46,
   "metadata": {},
   "outputs": [
    {
     "data": {
      "text/plain": [
       "1154112"
      ]
     },
     "execution_count": 46,
     "metadata": {},
     "output_type": "execute_result"
    }
   ],
   "source": [
    "df.count()"
   ]
  },
  {
   "cell_type": "code",
   "execution_count": 47,
   "metadata": {},
   "outputs": [
    {
     "data": {
      "text/plain": [
       "Row(dispatching_base_num='B00009', pickup_datetime=datetime.datetime(2021, 1, 1, 0, 27), dropOff_datetime=datetime.datetime(2021, 1, 1, 0, 44), PUlocationID=None, DOlocationID=None, SR_Flag=None, Affiliated_base_number='B00009')"
      ]
     },
     "execution_count": 47,
     "metadata": {},
     "output_type": "execute_result"
    }
   ],
   "source": [
    "df.head()"
   ]
  },
  {
   "cell_type": "code",
   "execution_count": 28,
   "metadata": {},
   "outputs": [
    {
     "data": {
      "text/plain": [
       "StructType([StructField('dispatching_base_num', StringType(), True), StructField('pickup_datetime', TimestampNTZType(), True), StructField('dropOff_datetime', TimestampNTZType(), True), StructField('PUlocationID', DoubleType(), True), StructField('DOlocationID', DoubleType(), True), StructField('SR_Flag', IntegerType(), True), StructField('Affiliated_base_number', StringType(), True)])"
      ]
     },
     "execution_count": 28,
     "metadata": {},
     "output_type": "execute_result"
    }
   ],
   "source": [
    "df.schema"
   ]
  },
  {
   "cell_type": "code",
   "execution_count": 72,
   "metadata": {},
   "outputs": [],
   "source": [
    "import pandas as pd \n",
    "\n",
    "df_pandas = pd.read_parquet('fhv_tripdata_2021-01.parquet')"
   ]
  },
  {
   "cell_type": "code",
   "execution_count": 73,
   "metadata": {},
   "outputs": [],
   "source": [
    "df_pandas = df_pandas.head(1000)"
   ]
  },
  {
   "cell_type": "code",
   "execution_count": 74,
   "metadata": {},
   "outputs": [
    {
     "data": {
      "text/plain": [
       "dispatching_base_num              object\n",
       "pickup_datetime           datetime64[ns]\n",
       "dropOff_datetime          datetime64[ns]\n",
       "PUlocationID                     float64\n",
       "DOlocationID                     float64\n",
       "SR_Flag                           object\n",
       "Affiliated_base_number            object\n",
       "dtype: object"
      ]
     },
     "execution_count": 74,
     "metadata": {},
     "output_type": "execute_result"
    }
   ],
   "source": [
    "df_pandas.dtypes"
   ]
  },
  {
   "cell_type": "code",
   "execution_count": 24,
   "metadata": {},
   "outputs": [],
   "source": [
    "from pyspark.sql.types import *\n",
    "\n",
    "# Define the schema based on the data types of the Pandas DataFrame\n",
    "schema = StructType([\n",
    "    StructField(\"dispatching_base_num\", StringType(), nullable=True),\n",
    "    StructField(\"pickup_datetime\", TimestampType(), nullable=True),\n",
    "    StructField(\"dropOff_datetime\", TimestampType(), nullable=True),\n",
    "    StructField(\"PUlocationID\", DoubleType(), nullable=True),\n",
    "    StructField(\"DOlocationID\", DoubleType(), nullable=True),\n",
    "    StructField(\"SR_Flag\", StringType(), nullable=True),\n",
    "    StructField(\"Affiliated_base_number\", StringType(), nullable=True),\n",
    "])"
   ]
  },
  {
   "cell_type": "code",
   "execution_count": 86,
   "metadata": {},
   "outputs": [],
   "source": [
    "spark_df = spark.createDataFrame(df_pandas, schema)"
   ]
  },
  {
   "cell_type": "code",
   "execution_count": 87,
   "metadata": {},
   "outputs": [
    {
     "name": "stdout",
     "output_type": "stream",
     "text": [
      "+--------------------+-------------------+-------------------+------------+------------+-------+----------------------+\n",
      "|dispatching_base_num|    pickup_datetime|   dropOff_datetime|PUlocationID|DOlocationID|SR_Flag|Affiliated_base_number|\n",
      "+--------------------+-------------------+-------------------+------------+------------+-------+----------------------+\n",
      "|              B00009|2021-01-01 00:27:00|2021-01-01 00:44:00|         NaN|         NaN|   null|                B00009|\n",
      "|              B00009|2021-01-01 00:50:00|2021-01-01 01:07:00|         NaN|         NaN|   null|                B00009|\n",
      "|              B00013|2021-01-01 00:01:00|2021-01-01 01:51:00|         NaN|         NaN|   null|                B00013|\n",
      "|              B00037|2021-01-01 00:13:09|2021-01-01 00:21:26|         NaN|        72.0|   null|                B00037|\n",
      "|              B00037|2021-01-01 00:38:31|2021-01-01 00:53:44|         NaN|        61.0|   null|                B00037|\n",
      "|              B00037|2021-01-01 00:59:02|2021-01-01 01:08:05|         NaN|        71.0|   null|                B00037|\n",
      "|              B00037|2021-01-01 00:18:12|2021-01-01 00:30:04|         NaN|        91.0|   null|                B00037|\n",
      "|              B00037|2021-01-01 00:36:15|2021-01-01 00:45:08|         NaN|        39.0|   null|                B00037|\n",
      "|              B00037|2021-01-01 00:55:04|2021-01-01 01:13:02|         NaN|        37.0|   null|                B00037|\n",
      "|              B00037|2021-01-01 00:48:40|2021-01-01 01:12:02|         NaN|        39.0|   null|                B00037|\n",
      "|              B00037|2021-01-01 00:27:23|2021-01-01 00:29:25|         NaN|        72.0|   null|                B00037|\n",
      "|              B00037|2021-01-01 00:39:07|2021-01-01 00:43:26|         NaN|        72.0|   null|                B00037|\n",
      "|              B00037|2021-01-01 00:55:57|2021-01-01 01:10:08|         NaN|        89.0|   null|                B00037|\n",
      "|              B00095|2021-01-01 00:17:54|2021-01-01 00:20:57|         NaN|       177.0|   null|                B00095|\n",
      "|              B00095|2021-01-01 00:31:59|2021-01-01 00:42:41|         NaN|       225.0|   null|                B00095|\n",
      "|              B00095|2021-01-01 00:46:23|2021-01-01 00:57:33|         NaN|        63.0|   null|                B00095|\n",
      "|              B00111|2021-01-01 00:40:00|2021-01-01 01:41:00|         NaN|         NaN|   null|                B03234|\n",
      "|              B00112|2021-01-01 00:21:10|2021-01-01 00:42:42|         NaN|        67.0|   null|                B00112|\n",
      "|              B00112|2021-01-01 00:53:10|2021-01-01 01:03:24|         NaN|        22.0|   null|                B00112|\n",
      "|              B00112|2021-01-01 00:28:12|2021-01-01 00:28:18|         NaN|        14.0|   null|                B00112|\n",
      "+--------------------+-------------------+-------------------+------------+------------+-------+----------------------+\n",
      "only showing top 20 rows\n",
      "\n"
     ]
    }
   ],
   "source": [
    "spark_df.show()"
   ]
  },
  {
   "cell_type": "code",
   "execution_count": 88,
   "metadata": {},
   "outputs": [
    {
     "data": {
      "text/plain": [
       "StructType([StructField('dispatching_base_num', StringType(), True), StructField('pickup_datetime', TimestampType(), True), StructField('dropOff_datetime', TimestampType(), True), StructField('PUlocationID', DoubleType(), True), StructField('DOlocationID', DoubleType(), True), StructField('SR_Flag', StringType(), True), StructField('Affiliated_base_number', StringType(), True)])"
      ]
     },
     "execution_count": 88,
     "metadata": {},
     "output_type": "execute_result"
    }
   ],
   "source": [
    "spark_df.schema"
   ]
  },
  {
   "cell_type": "code",
   "execution_count": 90,
   "metadata": {},
   "outputs": [],
   "source": [
    "df = spark_df.repartition(24)"
   ]
  },
  {
   "cell_type": "code",
   "execution_count": null,
   "metadata": {},
   "outputs": [],
   "source": [
    "df.write.parquet('fhv/2021/01/')"
   ]
  },
  {
   "cell_type": "code",
   "execution_count": 3,
   "metadata": {},
   "outputs": [],
   "source": [
    "df = spark.read.parquet('fhv/2021/01/')"
   ]
  },
  {
   "cell_type": "code",
   "execution_count": 4,
   "metadata": {},
   "outputs": [
    {
     "data": {
      "text/plain": [
       "DataFrame[dispatching_base_num: string, pickup_datetime: timestamp, dropOff_datetime: timestamp, PUlocationID: double, DOlocationID: double, SR_Flag: string, Affiliated_base_number: string]"
      ]
     },
     "execution_count": 4,
     "metadata": {},
     "output_type": "execute_result"
    }
   ],
   "source": [
    "df"
   ]
  },
  {
   "cell_type": "code",
   "execution_count": 5,
   "metadata": {},
   "outputs": [
    {
     "name": "stderr",
     "output_type": "stream",
     "text": [
      "                                                                                \r"
     ]
    },
    {
     "name": "stdout",
     "output_type": "stream",
     "text": [
      "+--------------------+-------------------+-------------------+------------+------------+-------+----------------------+\n",
      "|dispatching_base_num|    pickup_datetime|   dropOff_datetime|PUlocationID|DOlocationID|SR_Flag|Affiliated_base_number|\n",
      "+--------------------+-------------------+-------------------+------------+------------+-------+----------------------+\n",
      "|              B00310|2021-01-01 00:30:04|2021-01-01 00:46:57|         NaN|       169.0|   null|                B02875|\n",
      "|              B00706|2021-01-01 00:23:43|2021-01-01 00:28:30|       221.0|       115.0|   null|                B00706|\n",
      "|              B00706|2021-01-01 00:44:12|2021-01-01 00:51:08|       221.0|       206.0|   null|                B00706|\n",
      "|              B00310|2021-01-01 00:39:37|2021-01-01 00:56:52|         NaN|       168.0|   null|                B02864|\n",
      "|              B00256|2021-01-01 00:26:01|2021-01-01 00:30:42|         NaN|         NaN|   null|                B00256|\n",
      "|              B00900|2021-01-01 00:49:09|2021-01-01 01:02:08|         NaN|       196.0|   null|                B00900|\n",
      "|              B00856|2021-01-01 00:51:19|2021-01-01 01:01:22|         NaN|        49.0|   null|                B02800|\n",
      "|              B00882|2021-01-01 00:38:56|2021-01-01 00:45:25|         NaN|       244.0|   null|                B00882|\n",
      "|              B00856|2021-01-01 00:26:32|2021-01-01 00:31:33|         NaN|        77.0|   null|                B02875|\n",
      "|              B00706|2021-01-01 00:43:53|2021-01-01 00:55:09|       115.0|       206.0|   null|                B00706|\n",
      "|              B01145|2021-01-01 00:22:30|2021-01-01 00:34:18|         NaN|       243.0|   null|                B02875|\n",
      "|              B01051|2021-01-01 00:17:17|2021-01-01 00:30:19|         NaN|        32.0|   null|                B01051|\n",
      "|              B01145|2021-01-01 00:12:02|2021-01-01 00:17:15|         NaN|        69.0|   null|                B02875|\n",
      "|              B01145|2021-01-01 00:41:52|2021-01-01 01:59:35|         NaN|       247.0|   null|                B02879|\n",
      "|              B01118|2021-01-01 00:34:43|2021-01-01 00:36:25|         NaN|       189.0|   null|                B02617|\n",
      "|              B01145|2021-01-01 00:09:12|2021-01-01 00:34:37|         NaN|       265.0|   null|                B02847|\n",
      "|              B01233|2021-01-01 00:56:20|2021-01-01 01:04:50|         NaN|        51.0|   null|                B01233|\n",
      "|              B01312|2021-01-01 00:28:20|2021-01-01 00:38:15|         NaN|        35.0|   null|                B02887|\n",
      "|              B01231|2021-01-01 00:18:26|2021-01-01 00:25:30|         NaN|        63.0|   null|                B00789|\n",
      "|              B01233|2021-01-01 00:55:28|2021-01-01 01:07:04|         NaN|        78.0|   null|                B01233|\n",
      "+--------------------+-------------------+-------------------+------------+------------+-------+----------------------+\n",
      "only showing top 20 rows\n",
      "\n"
     ]
    }
   ],
   "source": [
    "df.show()"
   ]
  },
  {
   "cell_type": "code",
   "execution_count": 7,
   "metadata": {},
   "outputs": [
    {
     "name": "stdout",
     "output_type": "stream",
     "text": [
      "root\n",
      " |-- dispatching_base_num: string (nullable = true)\n",
      " |-- pickup_datetime: timestamp (nullable = true)\n",
      " |-- dropOff_datetime: timestamp (nullable = true)\n",
      " |-- PUlocationID: double (nullable = true)\n",
      " |-- DOlocationID: double (nullable = true)\n",
      " |-- SR_Flag: string (nullable = true)\n",
      " |-- Affiliated_base_number: string (nullable = true)\n",
      "\n"
     ]
    }
   ],
   "source": [
    "df.printSchema()"
   ]
  },
  {
   "cell_type": "code",
   "execution_count": 11,
   "metadata": {},
   "outputs": [
    {
     "name": "stdout",
     "output_type": "stream",
     "text": [
      "+-------------------+-------------------+------------+-------+--------------------+\n",
      "|    pickup_datetime|   dropOff_datetime|PUlocationID|SR_Flag|dispatching_base_num|\n",
      "+-------------------+-------------------+------------+-------+--------------------+\n",
      "|2021-01-01 00:30:04|2021-01-01 00:46:57|         NaN|   null|              B00310|\n",
      "|2021-01-01 00:39:37|2021-01-01 00:56:52|         NaN|   null|              B00310|\n",
      "|2021-01-01 00:09:58|2021-01-01 00:23:24|         NaN|   null|              B00310|\n",
      "|2021-01-01 00:45:08|2021-01-01 00:49:48|         NaN|   null|              B00310|\n",
      "|2021-01-01 00:40:43|2021-01-01 00:49:15|         NaN|   null|              B00310|\n",
      "|2021-01-01 00:10:00|2021-01-01 00:24:29|         NaN|   null|              B00310|\n",
      "|2021-01-01 00:32:59|2021-01-01 00:52:49|         NaN|   null|              B00310|\n",
      "|2021-01-01 00:59:08|2021-01-01 01:13:37|         NaN|   null|              B00310|\n",
      "|2021-01-01 00:08:50|2021-01-01 00:21:46|         NaN|   null|              B00310|\n",
      "|2021-01-01 00:43:49|2021-01-01 01:30:46|         NaN|   null|              B00310|\n",
      "|2021-01-01 00:41:04|2021-01-01 00:59:09|         NaN|   null|              B00310|\n",
      "|2021-01-01 00:40:37|2021-01-01 00:50:02|         NaN|   null|              B00310|\n",
      "|2021-01-01 00:19:08|2021-01-01 00:25:18|         NaN|   null|              B00310|\n",
      "|2021-01-01 00:08:04|2021-01-01 00:18:25|         NaN|   null|              B00310|\n",
      "|2021-01-01 00:58:58|2021-01-01 01:19:53|         NaN|   null|              B00310|\n",
      "|2021-01-01 00:13:35|2021-01-01 00:25:25|         NaN|   null|              B00310|\n",
      "|2021-01-01 00:26:54|2021-01-01 00:31:08|         NaN|   null|              B00310|\n",
      "|2021-01-01 00:15:00|2021-01-01 00:18:43|         NaN|   null|              B00310|\n",
      "|2021-01-01 00:04:25|2021-01-01 00:18:30|         NaN|   null|              B00310|\n",
      "|2021-01-01 00:30:28|2021-01-01 00:37:18|         NaN|   null|              B00310|\n",
      "+-------------------+-------------------+------------+-------+--------------------+\n",
      "only showing top 20 rows\n",
      "\n"
     ]
    }
   ],
   "source": [
    "df.select('pickup_datetime','dropOff_datetime','PUlocationID','SR_Flag','dispatching_base_num') \\\n",
    ".filter(df.dispatching_base_num == \"B00310\") \\\n",
    ".show()"
   ]
  },
  {
   "attachments": {},
   "cell_type": "markdown",
   "metadata": {},
   "source": [
    "SELECT * FROM df where dispatching_base_num = \"B00310\""
   ]
  },
  {
   "cell_type": "code",
   "execution_count": 13,
   "metadata": {},
   "outputs": [],
   "source": [
    "from pyspark.sql import functions as F "
   ]
  },
  {
   "cell_type": "code",
   "execution_count": 19,
   "metadata": {},
   "outputs": [
    {
     "name": "stdout",
     "output_type": "stream",
     "text": [
      "+-----------+------------+------------+-------+--------------------+\n",
      "|pickup_date|dropOff_date|PUlocationID|SR_Flag|dispatching_base_num|\n",
      "+-----------+------------+------------+-------+--------------------+\n",
      "| 2021-01-01|  2021-01-01|         NaN|   null|              B00310|\n",
      "| 2021-01-01|  2021-01-01|       221.0|   null|              B00706|\n",
      "| 2021-01-01|  2021-01-01|       221.0|   null|              B00706|\n",
      "| 2021-01-01|  2021-01-01|         NaN|   null|              B00310|\n",
      "| 2021-01-01|  2021-01-01|         NaN|   null|              B00256|\n",
      "| 2021-01-01|  2021-01-01|         NaN|   null|              B00900|\n",
      "| 2021-01-01|  2021-01-01|         NaN|   null|              B00856|\n",
      "| 2021-01-01|  2021-01-01|         NaN|   null|              B00882|\n",
      "| 2021-01-01|  2021-01-01|         NaN|   null|              B00856|\n",
      "| 2021-01-01|  2021-01-01|       115.0|   null|              B00706|\n",
      "| 2021-01-01|  2021-01-01|         NaN|   null|              B01145|\n",
      "| 2021-01-01|  2021-01-01|         NaN|   null|              B01051|\n",
      "| 2021-01-01|  2021-01-01|         NaN|   null|              B01145|\n",
      "| 2021-01-01|  2021-01-01|         NaN|   null|              B01145|\n",
      "| 2021-01-01|  2021-01-01|         NaN|   null|              B01118|\n",
      "| 2021-01-01|  2021-01-01|         NaN|   null|              B01145|\n",
      "| 2021-01-01|  2021-01-01|         NaN|   null|              B01233|\n",
      "| 2021-01-01|  2021-01-01|         NaN|   null|              B01312|\n",
      "| 2021-01-01|  2021-01-01|         NaN|   null|              B01231|\n",
      "| 2021-01-01|  2021-01-01|         NaN|   null|              B01233|\n",
      "+-----------+------------+------------+-------+--------------------+\n",
      "only showing top 20 rows\n",
      "\n"
     ]
    }
   ],
   "source": [
    "df \\\n",
    "    .withColumn('pickup_date', F.to_date(df.pickup_datetime)) \\\n",
    "    .withColumn('dropOff_date', F.to_date(df.dropOff_datetime)) \\\n",
    "    .select('pickup_date','dropOff_date','PUlocationID','SR_Flag','dispatching_base_num') \\\n",
    "    .show()\n"
   ]
  },
  {
   "cell_type": "code",
   "execution_count": 21,
   "metadata": {},
   "outputs": [],
   "source": [
    "def some_func(base_num):\n",
    "    num = int(base_num[1:])\n",
    "\n",
    "    if num % 7 == 0:\n",
    "        return f's/{num:03x}'\n",
    "    elif num % 3 == 0:\n",
    "        return f'a/{num:03x}'\n",
    "    else:\n",
    "        return f'e/{num:03x}'"
   ]
  },
  {
   "cell_type": "code",
   "execution_count": 22,
   "metadata": {},
   "outputs": [
    {
     "data": {
      "text/plain": [
       "'e/520'"
      ]
     },
     "execution_count": 22,
     "metadata": {},
     "output_type": "execute_result"
    }
   ],
   "source": [
    "some_func('B01312')"
   ]
  },
  {
   "cell_type": "code",
   "execution_count": 25,
   "metadata": {},
   "outputs": [],
   "source": [
    "some_func_udf = F.udf(some_func, returnType=StringType())"
   ]
  },
  {
   "cell_type": "code",
   "execution_count": 26,
   "metadata": {},
   "outputs": [
    {
     "name": "stderr",
     "output_type": "stream",
     "text": [
      "[Stage 13:>                                                         (0 + 1) / 1]\r"
     ]
    },
    {
     "name": "stdout",
     "output_type": "stream",
     "text": [
      "+-----------+------------+------------+-------+--------------------+\n",
      "|pickup_date|dropOff_date|PUlocationID|SR_Flag|dispatching_base_num|\n",
      "+-----------+------------+------------+-------+--------------------+\n",
      "| 2021-01-01|  2021-01-01|         NaN|   null|               e/136|\n",
      "| 2021-01-01|  2021-01-01|       221.0|   null|               e/2c2|\n",
      "| 2021-01-01|  2021-01-01|       221.0|   null|               e/2c2|\n",
      "| 2021-01-01|  2021-01-01|         NaN|   null|               e/136|\n",
      "| 2021-01-01|  2021-01-01|         NaN|   null|               e/100|\n",
      "| 2021-01-01|  2021-01-01|         NaN|   null|               a/384|\n",
      "| 2021-01-01|  2021-01-01|         NaN|   null|               e/358|\n",
      "| 2021-01-01|  2021-01-01|         NaN|   null|               s/372|\n",
      "| 2021-01-01|  2021-01-01|         NaN|   null|               e/358|\n",
      "| 2021-01-01|  2021-01-01|       115.0|   null|               e/2c2|\n",
      "| 2021-01-01|  2021-01-01|         NaN|   null|               e/479|\n",
      "| 2021-01-01|  2021-01-01|         NaN|   null|               e/41b|\n",
      "| 2021-01-01|  2021-01-01|         NaN|   null|               e/479|\n",
      "| 2021-01-01|  2021-01-01|         NaN|   null|               e/479|\n",
      "| 2021-01-01|  2021-01-01|         NaN|   null|               e/45e|\n",
      "| 2021-01-01|  2021-01-01|         NaN|   null|               e/479|\n",
      "| 2021-01-01|  2021-01-01|         NaN|   null|               a/4d1|\n",
      "| 2021-01-01|  2021-01-01|         NaN|   null|               e/520|\n",
      "| 2021-01-01|  2021-01-01|         NaN|   null|               e/4cf|\n",
      "| 2021-01-01|  2021-01-01|         NaN|   null|               a/4d1|\n",
      "+-----------+------------+------------+-------+--------------------+\n",
      "only showing top 20 rows\n",
      "\n"
     ]
    },
    {
     "name": "stderr",
     "output_type": "stream",
     "text": [
      "                                                                                \r"
     ]
    }
   ],
   "source": [
    "df \\\n",
    "    .withColumn('pickup_date', F.to_date(df.pickup_datetime)) \\\n",
    "    .withColumn('dropOff_date', F.to_date(df.dropOff_datetime)) \\\n",
    "    .withColumn('dispatching_base_num', some_func_udf(df.dispatching_base_num)) \\\n",
    "    .select('pickup_date','dropOff_date','PUlocationID','SR_Flag','dispatching_base_num') \\\n",
    "    .show()\n"
   ]
  },
  {
   "cell_type": "code",
   "execution_count": null,
   "metadata": {},
   "outputs": [],
   "source": []
  }
 ],
 "metadata": {
  "kernelspec": {
   "display_name": "dataengineer",
   "language": "python",
   "name": "python3"
  },
  "language_info": {
   "codemirror_mode": {
    "name": "ipython",
    "version": 3
   },
   "file_extension": ".py",
   "mimetype": "text/x-python",
   "name": "python",
   "nbconvert_exporter": "python",
   "pygments_lexer": "ipython3",
   "version": "3.11.3"
  },
  "orig_nbformat": 4
 },
 "nbformat": 4,
 "nbformat_minor": 2
}
