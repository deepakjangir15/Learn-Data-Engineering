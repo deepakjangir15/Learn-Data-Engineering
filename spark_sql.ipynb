{
 "cells": [
  {
   "cell_type": "code",
   "execution_count": 1,
   "metadata": {},
   "outputs": [
    {
     "name": "stderr",
     "output_type": "stream",
     "text": [
      "23/06/18 09:25:55 WARN Utils: Your hostname, Deepaks-MacBook-Pro.local resolves to a loopback address: 127.0.0.1; using 192.168.0.40 instead (on interface en0)\n",
      "23/06/18 09:25:55 WARN Utils: Set SPARK_LOCAL_IP if you need to bind to another address\n",
      "Setting default log level to \"WARN\".\n",
      "To adjust logging level use sc.setLogLevel(newLevel). For SparkR, use setLogLevel(newLevel).\n",
      "23/06/18 09:25:55 WARN NativeCodeLoader: Unable to load native-hadoop library for your platform... using builtin-java classes where applicable\n",
      "23/06/18 09:25:56 WARN Utils: Service 'SparkUI' could not bind on port 4040. Attempting port 4041.\n"
     ]
    }
   ],
   "source": [
    "import pyspark\n",
    "from pyspark.sql import SparkSession\n",
    "\n",
    "spark = SparkSession.builder \\\n",
    "    .master(\"local[*]\") \\\n",
    "    .appName('test') \\\n",
    "    .getOrCreate()"
   ]
  },
  {
   "cell_type": "code",
   "execution_count": 2,
   "metadata": {},
   "outputs": [
    {
     "name": "stderr",
     "output_type": "stream",
     "text": [
      "                                                                                \r"
     ]
    }
   ],
   "source": [
    "df_green = spark.read.parquet('data/pq/green/*/*')"
   ]
  },
  {
   "cell_type": "code",
   "execution_count": 3,
   "metadata": {},
   "outputs": [
    {
     "name": "stderr",
     "output_type": "stream",
     "text": [
      "                                                                                \r"
     ]
    },
    {
     "name": "stdout",
     "output_type": "stream",
     "text": [
      "+--------+--------------------+---------------------+------------------+----------+------------+------------+---------------+-------------+-----------+-----+-------+----------+------------+---------+---------------------+------------+------------+---------+--------------------+\n",
      "|VendorID|lpep_pickup_datetime|lpep_dropoff_datetime|store_and_fwd_flag|RatecodeID|PULocationID|DOLocationID|passenger_count|trip_distance|fare_amount|extra|mta_tax|tip_amount|tolls_amount|ehail_fee|improvement_surcharge|total_amount|payment_type|trip_type|congestion_surcharge|\n",
      "+--------+--------------------+---------------------+------------------+----------+------------+------------+---------------+-------------+-----------+-----+-------+----------+------------+---------+---------------------+------------+------------+---------+--------------------+\n",
      "|       2| 2020-01-23 13:10:15|  2020-01-23 13:38:16|                 N|         1|          74|         130|              1|        12.77|       36.0|  0.0|    0.5|      2.05|        6.12|     null|                  0.3|       44.97|           1|        1|                 0.0|\n",
      "|    null| 2020-01-20 15:09:00|  2020-01-20 15:46:00|              null|      null|          67|          39|           null|          8.0|       29.9| 2.75|    0.5|       0.0|         0.0|     null|                  0.3|       33.45|        null|     null|                null|\n",
      "|       2| 2020-01-15 20:23:41|  2020-01-15 20:31:18|                 N|         1|         260|         157|              1|         1.27|        7.0|  0.5|    0.5|       0.0|         0.0|     null|                  0.3|         8.3|           2|        1|                 0.0|\n",
      "|       2| 2020-01-05 16:32:26|  2020-01-05 16:40:51|                 N|         1|          82|          83|              1|         1.25|        7.5|  0.0|    0.5|       0.0|         0.0|     null|                  0.3|         8.3|           2|        1|                 0.0|\n",
      "|       2| 2020-01-29 19:22:42|  2020-01-29 19:31:02|                 N|         1|         166|          42|              1|         1.84|        8.0|  1.0|    0.5|      2.94|         0.0|     null|                  0.3|       12.74|           1|        1|                 0.0|\n",
      "|       2| 2020-01-15 11:07:42|  2020-01-15 11:11:31|                 N|         1|         179|         223|              2|         0.76|        5.0|  0.0|    0.5|       0.0|         0.0|     null|                  0.3|         5.8|           2|        1|                 0.0|\n",
      "|       2| 2020-01-16 08:22:29|  2020-01-16 08:50:24|                 N|         1|          41|         237|              1|         3.32|       18.5|  0.0|    0.5|       3.0|         0.0|     null|                  0.3|       25.05|           1|        1|                2.75|\n",
      "|       2| 2020-01-28 17:05:28|  2020-01-28 17:26:11|                 N|         1|          75|         161|              1|         2.21|       14.0|  1.0|    0.5|      2.78|         0.0|     null|                  0.3|       21.33|           1|        1|                2.75|\n",
      "|       1| 2020-01-22 14:51:37|  2020-01-22 14:57:29|                 N|         1|         152|         166|              1|          0.9|        6.0|  0.0|    0.5|       1.0|         0.0|     null|                  0.3|         7.8|           1|        1|                 0.0|\n",
      "|       2| 2020-01-31 10:25:04|  2020-01-31 10:52:13|                 N|         1|          75|         234|              1|          6.1|       22.5|  0.0|    0.5|       0.0|         0.0|     null|                  0.3|       26.05|           2|        1|                2.75|\n",
      "|       2| 2020-01-20 15:50:54|  2020-01-20 16:00:06|                 N|         1|          75|          41|              1|         1.74|        8.0|  0.0|    0.5|      1.76|         0.0|     null|                  0.3|       10.56|           1|        1|                 0.0|\n",
      "|       2| 2020-01-31 11:35:17|  2020-01-31 11:44:29|                 N|         1|         260|         226|              5|         1.18|        7.5|  0.0|    0.5|       0.0|         0.0|     null|                  0.3|         8.3|           2|        1|                 0.0|\n",
      "|       1| 2020-01-04 20:44:28|  2020-01-04 20:52:24|                 N|         1|         129|         129|              1|          2.2|        9.5|  0.5|    0.5|       2.0|         0.0|     null|                  0.3|        12.8|           1|        1|                 0.0|\n",
      "|       2| 2020-01-17 21:47:52|  2020-01-17 22:00:07|                 N|         1|          74|         126|              1|         3.04|       12.0|  0.5|    0.5|       0.0|         0.0|     null|                  0.3|        13.3|           2|        1|                 0.0|\n",
      "|       2| 2020-01-21 23:13:47|  2020-01-21 23:17:31|                 N|         1|          61|          61|              1|         0.85|        5.0|  0.5|    0.5|       0.0|         0.0|     null|                  0.3|         6.3|           2|        1|                 0.0|\n",
      "|       2| 2020-01-02 08:11:21|  2020-01-02 08:32:05|                 N|         1|          66|         164|              1|         5.06|       18.5|  0.0|    0.5|       1.5|         0.0|     null|                  0.3|       23.55|           1|        1|                2.75|\n",
      "|       2| 2020-01-27 02:59:20|  2020-01-27 03:05:18|                 N|         1|           7|         179|              1|         1.57|        6.5|  0.5|    0.5|       0.0|         0.0|     null|                  0.3|         7.8|           2|        1|                 0.0|\n",
      "|       2| 2020-01-16 14:39:13|  2020-01-16 15:19:56|                 N|         1|          74|         243|              1|          6.8|       29.5|  0.0|    0.5|       0.0|         0.0|     null|                  0.3|        30.3|           1|        1|                 0.0|\n",
      "|       2| 2020-01-16 18:42:24|  2020-01-16 18:47:59|                 N|         1|          66|          97|              2|         1.06|        6.0|  1.0|    0.5|      1.56|         0.0|     null|                  0.3|        9.36|           1|        1|                 0.0|\n",
      "|       2| 2020-01-03 09:24:54|  2020-01-03 09:33:14|                 N|         1|          61|         225|              1|         1.23|        7.0|  0.0|    0.5|       0.0|         0.0|     null|                  0.3|         7.8|           1|        1|                 0.0|\n",
      "+--------+--------------------+---------------------+------------------+----------+------------+------------+---------------+-------------+-----------+-----+-------+----------+------------+---------+---------------------+------------+------------+---------+--------------------+\n",
      "only showing top 20 rows\n",
      "\n"
     ]
    }
   ],
   "source": [
    "df_green.show()"
   ]
  },
  {
   "cell_type": "code",
   "execution_count": 4,
   "metadata": {},
   "outputs": [
    {
     "name": "stdout",
     "output_type": "stream",
     "text": [
      "root\n",
      " |-- VendorID: integer (nullable = true)\n",
      " |-- lpep_pickup_datetime: timestamp (nullable = true)\n",
      " |-- lpep_dropoff_datetime: timestamp (nullable = true)\n",
      " |-- store_and_fwd_flag: string (nullable = true)\n",
      " |-- RatecodeID: integer (nullable = true)\n",
      " |-- PULocationID: integer (nullable = true)\n",
      " |-- DOLocationID: integer (nullable = true)\n",
      " |-- passenger_count: integer (nullable = true)\n",
      " |-- trip_distance: double (nullable = true)\n",
      " |-- fare_amount: double (nullable = true)\n",
      " |-- extra: double (nullable = true)\n",
      " |-- mta_tax: double (nullable = true)\n",
      " |-- tip_amount: double (nullable = true)\n",
      " |-- tolls_amount: double (nullable = true)\n",
      " |-- ehail_fee: double (nullable = true)\n",
      " |-- improvement_surcharge: double (nullable = true)\n",
      " |-- total_amount: double (nullable = true)\n",
      " |-- payment_type: integer (nullable = true)\n",
      " |-- trip_type: integer (nullable = true)\n",
      " |-- congestion_surcharge: double (nullable = true)\n",
      "\n"
     ]
    }
   ],
   "source": [
    "df_green.printSchema()"
   ]
  },
  {
   "cell_type": "code",
   "execution_count": 5,
   "metadata": {},
   "outputs": [],
   "source": [
    "df_yellow = spark.read.parquet('data/pq/yellow/*/*')"
   ]
  },
  {
   "cell_type": "code",
   "execution_count": 6,
   "metadata": {},
   "outputs": [
    {
     "name": "stdout",
     "output_type": "stream",
     "text": [
      "root\n",
      " |-- VendorID: integer (nullable = true)\n",
      " |-- tpep_pickup_datetime: timestamp (nullable = true)\n",
      " |-- tpep_dropoff_datetime: timestamp (nullable = true)\n",
      " |-- passenger_count: integer (nullable = true)\n",
      " |-- trip_distance: double (nullable = true)\n",
      " |-- RatecodeID: integer (nullable = true)\n",
      " |-- store_and_fwd_flag: string (nullable = true)\n",
      " |-- PULocationID: integer (nullable = true)\n",
      " |-- DOLocationID: integer (nullable = true)\n",
      " |-- payment_type: integer (nullable = true)\n",
      " |-- fare_amount: double (nullable = true)\n",
      " |-- extra: double (nullable = true)\n",
      " |-- mta_tax: double (nullable = true)\n",
      " |-- tip_amount: double (nullable = true)\n",
      " |-- tolls_amount: double (nullable = true)\n",
      " |-- improvement_surcharge: double (nullable = true)\n",
      " |-- total_amount: double (nullable = true)\n",
      " |-- congestion_surcharge: double (nullable = true)\n",
      "\n"
     ]
    }
   ],
   "source": [
    "df_yellow.printSchema()"
   ]
  },
  {
   "cell_type": "code",
   "execution_count": 7,
   "metadata": {},
   "outputs": [
    {
     "data": {
      "text/plain": [
       "{'DOLocationID',\n",
       " 'PULocationID',\n",
       " 'RatecodeID',\n",
       " 'VendorID',\n",
       " 'congestion_surcharge',\n",
       " 'extra',\n",
       " 'fare_amount',\n",
       " 'improvement_surcharge',\n",
       " 'mta_tax',\n",
       " 'passenger_count',\n",
       " 'payment_type',\n",
       " 'store_and_fwd_flag',\n",
       " 'tip_amount',\n",
       " 'tolls_amount',\n",
       " 'total_amount',\n",
       " 'trip_distance'}"
      ]
     },
     "execution_count": 7,
     "metadata": {},
     "output_type": "execute_result"
    }
   ],
   "source": [
    "set(df_green.columns) & set(df_yellow.columns)"
   ]
  },
  {
   "cell_type": "code",
   "execution_count": 8,
   "metadata": {},
   "outputs": [
    {
     "data": {
      "text/plain": [
       "['VendorID',\n",
       " 'lpep_pickup_datetime',\n",
       " 'lpep_dropoff_datetime',\n",
       " 'store_and_fwd_flag',\n",
       " 'RatecodeID',\n",
       " 'PULocationID',\n",
       " 'DOLocationID',\n",
       " 'passenger_count',\n",
       " 'trip_distance',\n",
       " 'fare_amount',\n",
       " 'extra',\n",
       " 'mta_tax',\n",
       " 'tip_amount',\n",
       " 'tolls_amount',\n",
       " 'ehail_fee',\n",
       " 'improvement_surcharge',\n",
       " 'total_amount',\n",
       " 'payment_type',\n",
       " 'trip_type',\n",
       " 'congestion_surcharge']"
      ]
     },
     "execution_count": 8,
     "metadata": {},
     "output_type": "execute_result"
    }
   ],
   "source": [
    "df_green.columns"
   ]
  },
  {
   "cell_type": "code",
   "execution_count": 24,
   "metadata": {},
   "outputs": [],
   "source": [
    "df_green = df_green \\\n",
    "    .withColumnRenamed('lpep_pickup_datetime', 'pickup_datetime') \\\n",
    "    .withColumnRenamed('lpep_dropoff_datetime', 'dropoff_datetime')"
   ]
  },
  {
   "cell_type": "code",
   "execution_count": 25,
   "metadata": {},
   "outputs": [],
   "source": [
    "df_yellow = df_yellow \\\n",
    "    .withColumnRenamed('tpep_pickup_datetime', 'pickup_datetime') \\\n",
    "    .withColumnRenamed('tpep_dropoff_datetime', 'dropoff_datetime')"
   ]
  },
  {
   "cell_type": "code",
   "execution_count": 26,
   "metadata": {},
   "outputs": [],
   "source": [
    "common_columns = []\n",
    "\n",
    "yellow_columns = set(df_yellow.columns)\n",
    "\n",
    "for col in df_green.columns:\n",
    "    if col in yellow_columns:\n",
    "        common_columns.append(col)"
   ]
  },
  {
   "cell_type": "code",
   "execution_count": 27,
   "metadata": {},
   "outputs": [
    {
     "data": {
      "text/plain": [
       "['VendorID',\n",
       " 'pickup_datetime',\n",
       " 'dropoff_datetime',\n",
       " 'store_and_fwd_flag',\n",
       " 'RatecodeID',\n",
       " 'PULocationID',\n",
       " 'DOLocationID',\n",
       " 'passenger_count',\n",
       " 'trip_distance',\n",
       " 'fare_amount',\n",
       " 'extra',\n",
       " 'mta_tax',\n",
       " 'tip_amount',\n",
       " 'tolls_amount',\n",
       " 'improvement_surcharge',\n",
       " 'total_amount',\n",
       " 'payment_type',\n",
       " 'congestion_surcharge']"
      ]
     },
     "execution_count": 27,
     "metadata": {},
     "output_type": "execute_result"
    }
   ],
   "source": [
    "common_columns"
   ]
  },
  {
   "cell_type": "code",
   "execution_count": 28,
   "metadata": {},
   "outputs": [
    {
     "name": "stdout",
     "output_type": "stream",
     "text": [
      "+--------+-------------------+-------------------+------------------+----------+------------+------------+---------------+-------------+-----------+-----+-------+----------+------------+---------------------+------------+------------+--------------------+\n",
      "|VendorID|    pickup_datetime|   dropoff_datetime|store_and_fwd_flag|RatecodeID|PULocationID|DOLocationID|passenger_count|trip_distance|fare_amount|extra|mta_tax|tip_amount|tolls_amount|improvement_surcharge|total_amount|payment_type|congestion_surcharge|\n",
      "+--------+-------------------+-------------------+------------------+----------+------------+------------+---------------+-------------+-----------+-----+-------+----------+------------+---------------------+------------+------------+--------------------+\n",
      "|       2|2020-01-23 13:10:15|2020-01-23 13:38:16|                 N|         1|          74|         130|              1|        12.77|       36.0|  0.0|    0.5|      2.05|        6.12|                  0.3|       44.97|           1|                 0.0|\n",
      "|    null|2020-01-20 15:09:00|2020-01-20 15:46:00|              null|      null|          67|          39|           null|          8.0|       29.9| 2.75|    0.5|       0.0|         0.0|                  0.3|       33.45|        null|                null|\n",
      "|       2|2020-01-15 20:23:41|2020-01-15 20:31:18|                 N|         1|         260|         157|              1|         1.27|        7.0|  0.5|    0.5|       0.0|         0.0|                  0.3|         8.3|           2|                 0.0|\n",
      "|       2|2020-01-05 16:32:26|2020-01-05 16:40:51|                 N|         1|          82|          83|              1|         1.25|        7.5|  0.0|    0.5|       0.0|         0.0|                  0.3|         8.3|           2|                 0.0|\n",
      "|       2|2020-01-29 19:22:42|2020-01-29 19:31:02|                 N|         1|         166|          42|              1|         1.84|        8.0|  1.0|    0.5|      2.94|         0.0|                  0.3|       12.74|           1|                 0.0|\n",
      "|       2|2020-01-15 11:07:42|2020-01-15 11:11:31|                 N|         1|         179|         223|              2|         0.76|        5.0|  0.0|    0.5|       0.0|         0.0|                  0.3|         5.8|           2|                 0.0|\n",
      "|       2|2020-01-16 08:22:29|2020-01-16 08:50:24|                 N|         1|          41|         237|              1|         3.32|       18.5|  0.0|    0.5|       3.0|         0.0|                  0.3|       25.05|           1|                2.75|\n",
      "|       2|2020-01-28 17:05:28|2020-01-28 17:26:11|                 N|         1|          75|         161|              1|         2.21|       14.0|  1.0|    0.5|      2.78|         0.0|                  0.3|       21.33|           1|                2.75|\n",
      "|       1|2020-01-22 14:51:37|2020-01-22 14:57:29|                 N|         1|         152|         166|              1|          0.9|        6.0|  0.0|    0.5|       1.0|         0.0|                  0.3|         7.8|           1|                 0.0|\n",
      "|       2|2020-01-31 10:25:04|2020-01-31 10:52:13|                 N|         1|          75|         234|              1|          6.1|       22.5|  0.0|    0.5|       0.0|         0.0|                  0.3|       26.05|           2|                2.75|\n",
      "|       2|2020-01-20 15:50:54|2020-01-20 16:00:06|                 N|         1|          75|          41|              1|         1.74|        8.0|  0.0|    0.5|      1.76|         0.0|                  0.3|       10.56|           1|                 0.0|\n",
      "|       2|2020-01-31 11:35:17|2020-01-31 11:44:29|                 N|         1|         260|         226|              5|         1.18|        7.5|  0.0|    0.5|       0.0|         0.0|                  0.3|         8.3|           2|                 0.0|\n",
      "|       1|2020-01-04 20:44:28|2020-01-04 20:52:24|                 N|         1|         129|         129|              1|          2.2|        9.5|  0.5|    0.5|       2.0|         0.0|                  0.3|        12.8|           1|                 0.0|\n",
      "|       2|2020-01-17 21:47:52|2020-01-17 22:00:07|                 N|         1|          74|         126|              1|         3.04|       12.0|  0.5|    0.5|       0.0|         0.0|                  0.3|        13.3|           2|                 0.0|\n",
      "|       2|2020-01-21 23:13:47|2020-01-21 23:17:31|                 N|         1|          61|          61|              1|         0.85|        5.0|  0.5|    0.5|       0.0|         0.0|                  0.3|         6.3|           2|                 0.0|\n",
      "|       2|2020-01-02 08:11:21|2020-01-02 08:32:05|                 N|         1|          66|         164|              1|         5.06|       18.5|  0.0|    0.5|       1.5|         0.0|                  0.3|       23.55|           1|                2.75|\n",
      "|       2|2020-01-27 02:59:20|2020-01-27 03:05:18|                 N|         1|           7|         179|              1|         1.57|        6.5|  0.5|    0.5|       0.0|         0.0|                  0.3|         7.8|           2|                 0.0|\n",
      "|       2|2020-01-16 14:39:13|2020-01-16 15:19:56|                 N|         1|          74|         243|              1|          6.8|       29.5|  0.0|    0.5|       0.0|         0.0|                  0.3|        30.3|           1|                 0.0|\n",
      "|       2|2020-01-16 18:42:24|2020-01-16 18:47:59|                 N|         1|          66|          97|              2|         1.06|        6.0|  1.0|    0.5|      1.56|         0.0|                  0.3|        9.36|           1|                 0.0|\n",
      "|       2|2020-01-03 09:24:54|2020-01-03 09:33:14|                 N|         1|          61|         225|              1|         1.23|        7.0|  0.0|    0.5|       0.0|         0.0|                  0.3|         7.8|           1|                 0.0|\n",
      "+--------+-------------------+-------------------+------------------+----------+------------+------------+---------------+-------------+-----------+-----+-------+----------+------------+---------------------+------------+------------+--------------------+\n",
      "only showing top 20 rows\n",
      "\n"
     ]
    }
   ],
   "source": [
    "df_green.select(common_columns).show()"
   ]
  },
  {
   "cell_type": "code",
   "execution_count": 29,
   "metadata": {},
   "outputs": [],
   "source": [
    "from pyspark.sql import functions as F\n",
    "\n",
    "df_green_sel = df_green \\\n",
    "    .select(common_columns) \\\n",
    "    .withColumn('service_type', F.lit('green'))"
   ]
  },
  {
   "cell_type": "code",
   "execution_count": 30,
   "metadata": {},
   "outputs": [],
   "source": [
    "df_yellow_sel = df_yellow \\\n",
    "    .select(common_columns) \\\n",
    "    .withColumn('service_type', F.lit('yellow'))"
   ]
  },
  {
   "cell_type": "code",
   "execution_count": 31,
   "metadata": {},
   "outputs": [],
   "source": [
    "df_trips_data = df_green_sel.unionAll(df_yellow_sel)"
   ]
  },
  {
   "cell_type": "code",
   "execution_count": 32,
   "metadata": {},
   "outputs": [
    {
     "name": "stderr",
     "output_type": "stream",
     "text": [
      "[Stage 9:================================================>        (17 + 3) / 20]\r"
     ]
    },
    {
     "name": "stdout",
     "output_type": "stream",
     "text": [
      "+------------+--------+\n",
      "|service_type|   count|\n",
      "+------------+--------+\n",
      "|       green| 2304517|\n",
      "|      yellow|39649199|\n",
      "+------------+--------+\n",
      "\n"
     ]
    },
    {
     "name": "stderr",
     "output_type": "stream",
     "text": [
      "                                                                                \r"
     ]
    }
   ],
   "source": [
    "df_trips_data.groupBy('service_type').count().show()"
   ]
  },
  {
   "cell_type": "code",
   "execution_count": 33,
   "metadata": {},
   "outputs": [
    {
     "name": "stderr",
     "output_type": "stream",
     "text": [
      "/opt/anaconda3/envs/dataengineer/lib/python3.11/site-packages/pyspark/sql/dataframe.py:330: FutureWarning: Deprecated in 2.0, use createOrReplaceTempView instead.\n",
      "  warnings.warn(\"Deprecated in 2.0, use createOrReplaceTempView instead.\", FutureWarning)\n"
     ]
    }
   ],
   "source": [
    "df_trips_data.registerTempTable('trips_data')"
   ]
  },
  {
   "cell_type": "code",
   "execution_count": 34,
   "metadata": {},
   "outputs": [
    {
     "name": "stdout",
     "output_type": "stream",
     "text": [
      "+--------+-------------------+-------------------+------------------+----------+------------+------------+---------------+-------------+-----------+-----+-------+----------+------------+---------------------+------------+------------+--------------------+------------+\n",
      "|VendorID|    pickup_datetime|   dropoff_datetime|store_and_fwd_flag|RatecodeID|PULocationID|DOLocationID|passenger_count|trip_distance|fare_amount|extra|mta_tax|tip_amount|tolls_amount|improvement_surcharge|total_amount|payment_type|congestion_surcharge|service_type|\n",
      "+--------+-------------------+-------------------+------------------+----------+------------+------------+---------------+-------------+-----------+-----+-------+----------+------------+---------------------+------------+------------+--------------------+------------+\n",
      "|       2|2020-01-23 13:10:15|2020-01-23 13:38:16|                 N|         1|          74|         130|              1|        12.77|       36.0|  0.0|    0.5|      2.05|        6.12|                  0.3|       44.97|           1|                 0.0|       green|\n",
      "|    null|2020-01-20 15:09:00|2020-01-20 15:46:00|              null|      null|          67|          39|           null|          8.0|       29.9| 2.75|    0.5|       0.0|         0.0|                  0.3|       33.45|        null|                null|       green|\n",
      "|       2|2020-01-15 20:23:41|2020-01-15 20:31:18|                 N|         1|         260|         157|              1|         1.27|        7.0|  0.5|    0.5|       0.0|         0.0|                  0.3|         8.3|           2|                 0.0|       green|\n",
      "|       2|2020-01-05 16:32:26|2020-01-05 16:40:51|                 N|         1|          82|          83|              1|         1.25|        7.5|  0.0|    0.5|       0.0|         0.0|                  0.3|         8.3|           2|                 0.0|       green|\n",
      "|       2|2020-01-29 19:22:42|2020-01-29 19:31:02|                 N|         1|         166|          42|              1|         1.84|        8.0|  1.0|    0.5|      2.94|         0.0|                  0.3|       12.74|           1|                 0.0|       green|\n",
      "|       2|2020-01-15 11:07:42|2020-01-15 11:11:31|                 N|         1|         179|         223|              2|         0.76|        5.0|  0.0|    0.5|       0.0|         0.0|                  0.3|         5.8|           2|                 0.0|       green|\n",
      "|       2|2020-01-16 08:22:29|2020-01-16 08:50:24|                 N|         1|          41|         237|              1|         3.32|       18.5|  0.0|    0.5|       3.0|         0.0|                  0.3|       25.05|           1|                2.75|       green|\n",
      "|       2|2020-01-28 17:05:28|2020-01-28 17:26:11|                 N|         1|          75|         161|              1|         2.21|       14.0|  1.0|    0.5|      2.78|         0.0|                  0.3|       21.33|           1|                2.75|       green|\n",
      "|       1|2020-01-22 14:51:37|2020-01-22 14:57:29|                 N|         1|         152|         166|              1|          0.9|        6.0|  0.0|    0.5|       1.0|         0.0|                  0.3|         7.8|           1|                 0.0|       green|\n",
      "|       2|2020-01-31 10:25:04|2020-01-31 10:52:13|                 N|         1|          75|         234|              1|          6.1|       22.5|  0.0|    0.5|       0.0|         0.0|                  0.3|       26.05|           2|                2.75|       green|\n",
      "+--------+-------------------+-------------------+------------------+----------+------------+------------+---------------+-------------+-----------+-----+-------+----------+------------+---------------------+------------+------------+--------------------+------------+\n",
      "\n"
     ]
    }
   ],
   "source": [
    "spark.sql(\"\"\"\n",
    "SELECT * FROM trips_data LIMIT 10\n",
    "\"\"\").show()"
   ]
  },
  {
   "cell_type": "code",
   "execution_count": 35,
   "metadata": {},
   "outputs": [],
   "source": [
    "df_result = spark.sql(\"\"\"\n",
    "SELECT \n",
    "    -- Reveneue grouping \n",
    "    PULocationID AS revenue_zone,\n",
    "    date_trunc('month', pickup_datetime) AS revenue_month, \n",
    "    service_type, \n",
    "\n",
    "    -- Revenue calculation \n",
    "    SUM(fare_amount) AS revenue_monthly_fare,\n",
    "    SUM(extra) AS revenue_monthly_extra,\n",
    "    SUM(mta_tax) AS revenue_monthly_mta_tax,\n",
    "    SUM(tip_amount) AS revenue_monthly_tip_amount,\n",
    "    SUM(tolls_amount) AS revenue_monthly_tolls_amount,\n",
    "    SUM(improvement_surcharge) AS revenue_monthly_improvement_surcharge,\n",
    "    SUM(total_amount) AS revenue_monthly_total_amount,\n",
    "    SUM(congestion_surcharge) AS revenue_monthly_congestion_surcharge,\n",
    "\n",
    "    -- Additional calculations\n",
    "    AVG(passenger_count) AS avg_montly_passenger_count,\n",
    "    AVG(trip_distance) AS avg_montly_trip_distance\n",
    "FROM\n",
    "    trips_data\n",
    "GROUP BY\n",
    "    1, 2, 3\n",
    "\"\"\")"
   ]
  },
  {
   "cell_type": "code",
   "execution_count": null,
   "metadata": {},
   "outputs": [],
   "source": [
    "df_result.coalesce(1).write.parquet('data/report/revenue/', mode='overwrite')"
   ]
  }
 ],
 "metadata": {
  "kernelspec": {
   "display_name": "dataengineer",
   "language": "python",
   "name": "python3"
  },
  "language_info": {
   "codemirror_mode": {
    "name": "ipython",
    "version": 3
   },
   "file_extension": ".py",
   "mimetype": "text/x-python",
   "name": "python",
   "nbconvert_exporter": "python",
   "pygments_lexer": "ipython3",
   "version": "3.11.3"
  },
  "orig_nbformat": 4
 },
 "nbformat": 4,
 "nbformat_minor": 2
}
